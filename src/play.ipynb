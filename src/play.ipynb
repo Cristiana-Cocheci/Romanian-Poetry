{
 "cells": [
  {
   "cell_type": "code",
   "execution_count": 1,
   "metadata": {},
   "outputs": [
    {
     "name": "stderr",
     "output_type": "stream",
     "text": [
      "2024-12-28 09:17:57.553847: I tensorflow/core/platform/cpu_feature_guard.cc:210] This TensorFlow binary is optimized to use available CPU instructions in performance-critical operations.\n",
      "To enable the following instructions: SSE4.1 SSE4.2, in other operations, rebuild TensorFlow with the appropriate compiler flags.\n"
     ]
    },
    {
     "name": "stdout",
     "output_type": "stream",
     "text": [
      "done\n"
     ]
    }
   ],
   "source": [
    "import pandas as pd\n",
    "from poem_env import PoemGenerationEnv\n",
    "from poem_dql import DQLAgent"
   ]
  },
  {
   "cell_type": "code",
   "execution_count": 13,
   "metadata": {},
   "outputs": [],
   "source": [
    "df = pd.read_csv('../data/temp_romanian_words.csv')\n",
    "df = df[df['joint_syllables'] != 'not-found']\n",
    "df.to_csv('../data/temporary_romanian_words.csv', index=False)"
   ]
  },
  {
   "cell_type": "code",
   "execution_count": 14,
   "metadata": {},
   "outputs": [
    {
     "name": "stdout",
     "output_type": "stream",
     "text": [
      "12719 12719\n"
     ]
    }
   ],
   "source": [
    "# Clean data\n",
    "df = pd.read_csv('../data/temporary_romanian_words.csv')\n",
    "syls = list(df['syllables'])\n",
    "new_syls = []\n",
    "for s in syls:\n",
    "    s = eval(s)\n",
    "    i=0\n",
    "    while i < (len(s)):\n",
    "        if '(' in s[i]:\n",
    "            break\n",
    "        i+=1\n",
    "    new_syls.append(s[:i])\n",
    "            \n",
    "print (len(new_syls), len(df))\n",
    "df['syllables'] = new_syls\n",
    "df.to_csv('../data/temporary2_romanian_words.csv', index=False)"
   ]
  },
  {
   "cell_type": "code",
   "execution_count": 15,
   "metadata": {},
   "outputs": [],
   "source": [
    "df = pd.read_csv('../data/temporary2_romanian_words.csv')"
   ]
  },
  {
   "cell_type": "code",
   "execution_count": 17,
   "metadata": {},
   "outputs": [
    {
     "name": "stdout",
     "output_type": "stream",
     "text": [
      "here2\n",
      "here3\n",
      "here4\n",
      "here5\n",
      "State: {'poem': [], 'verse': ['bătuci'], 'syllables_left': 3, 'verse_index': 0}\n",
      "Reward: 1\n",
      "Done: False\n",
      "State: {'poem': [], 'verse': ['bătuci', 'autocontempla'], 'syllables_left': -3, 'verse_index': 0}\n",
      "Reward: -15\n",
      "Done: True\n"
     ]
    }
   ],
   "source": [
    "# Initialize the environment\n",
    "env = PoemGenerationEnv(df, num_verses=2, syllables_per_verse=6, rhyme_data=3)\n",
    "\n",
    "# Interact with the environment\n",
    "state = env.reset()\n",
    "done = False\n",
    "\n",
    "while not done:\n",
    "    action = env.sample_action()  # Random action (replace with DQL model's action)\n",
    "    state, reward, done = env.step(action)\n",
    "    print(f\"State: {state}\")\n",
    "    print(f\"Reward: {reward}\")\n",
    "    print(f\"Done: {done}\")"
   ]
  },
  {
   "cell_type": "code",
   "execution_count": null,
   "metadata": {},
   "outputs": [],
   "source": [
    "# Hyperparameters\n",
    "episodes = 1000\n",
    "batch_size = 32\n",
    "state_size = 3  # For example: poem length, syllables left, verse index\n",
    "action_size = len(vocab)  # Vocabulary size\n",
    "target_update_freq = 10"
   ]
  },
  {
   "cell_type": "code",
   "execution_count": null,
   "metadata": {},
   "outputs": [],
   "source": [
    "\n",
    "\n",
    "# Initialize the environment and agent\n",
    "env = PoemGenerationEnv(vocab, syllable_data, rhyme_data, num_verses=2, syllables_per_verse=6)\n",
    "agent = DQLAgent(state_size, action_size)\n",
    "\n",
    "for episode in range(episodes):\n",
    "    # Reset environment at the start of each episode\n",
    "    state = env.reset()\n",
    "    state_vector = np.array([state[\"verse_index\"], state[\"syllables_left\"], len(state[\"poem\"])])\n",
    "    total_reward = 0\n",
    "\n",
    "    done = False\n",
    "    while not done:\n",
    "        # Choose an action\n",
    "        action = agent.act(state_vector)\n",
    "\n",
    "        # Take the action in the environment\n",
    "        next_state, reward, done = env.step(action)\n",
    "        next_state_vector = np.array([next_state[\"verse_index\"], next_state[\"syllables_left\"], len(next_state[\"poem\"])])\n",
    "\n",
    "        # Store experience\n",
    "        agent.remember(state_vector, action, reward, next_state_vector, done)\n",
    "\n",
    "        # Update state\n",
    "        state_vector = next_state_vector\n",
    "        total_reward += reward\n",
    "\n",
    "        # Replay and train\n",
    "        agent.replay(batch_size)\n",
    "\n",
    "    # Update target network periodically\n",
    "    if episode % target_update_freq == 0:\n",
    "        agent.update_target_network()\n",
    "\n",
    "    print(f\"Episode {episode + 1}/{episodes}, Total Reward: {total_reward}, Epsilon: {agent.epsilon:.2f}\")\n"
   ]
  }
 ],
 "metadata": {
  "kernelspec": {
   "display_name": "poem-mode",
   "language": "python",
   "name": "python3"
  },
  "language_info": {
   "codemirror_mode": {
    "name": "ipython",
    "version": 3
   },
   "file_extension": ".py",
   "mimetype": "text/x-python",
   "name": "python",
   "nbconvert_exporter": "python",
   "pygments_lexer": "ipython3",
   "version": "3.12.8"
  }
 },
 "nbformat": 4,
 "nbformat_minor": 2
}
